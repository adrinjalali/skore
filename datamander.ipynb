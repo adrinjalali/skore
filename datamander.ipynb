{
 "cells": [
  {
   "cell_type": "code",
   "execution_count": 1,
   "id": "1fe92645-92ee-40bd-b15e-0ba2c4d1118a",
   "metadata": {},
   "outputs": [],
   "source": [
    "%load_ext autoreload\n",
    "%autoreload 2"
   ]
  },
  {
   "cell_type": "code",
   "execution_count": 2,
   "id": "7c076046-6296-4f8a-b7e0-521a1f9f4343",
   "metadata": {},
   "outputs": [],
   "source": [
    "from bundl import InfoMander\n",
    "from bundl.templates import TemplateRenderer"
   ]
  },
  {
   "cell_type": "code",
   "execution_count": 26,
   "id": "551edd85-19a5-4eb9-832f-0429fd479568",
   "metadata": {},
   "outputs": [],
   "source": [
    "mander = InfoMander('probabl-ai', 'demo-usecase', 'training', '3')"
   ]
  },
  {
   "cell_type": "code",
   "execution_count": 27,
   "id": "8f548442-1b03-458b-bb9e-84ec862b1695",
   "metadata": {},
   "outputs": [],
   "source": [
    "import matplotlib.pyplot as plt\n",
    "import numpy as np\n",
    "from sklearn.datasets import make_classification\n",
    "from sklearn.metrics import confusion_matrix, ConfusionMatrixDisplay\n",
    "from sklearn.model_selection import train_test_split\n",
    "from sklearn.linear_model import LogisticRegression\n",
    "from sklearn.model_selection import GridSearchCV\n",
    "import time\n",
    "\n",
    "X, y = make_classification(random_state=0)\n",
    "X_train, X_test, y_train, y_test = train_test_split(X, y, random_state=0)\n",
    "\n",
    "tic = time.time()\n",
    "clf = LogisticRegression(random_state=0)\n",
    "grid = GridSearchCV(clf, param_grid={'C': np.logspace(0.0001, 1, 10), 'random_state': range(10)})\n",
    "grid.fit(X_train, y_train)\n",
    "toc = time.time()"
   ]
  },
  {
   "cell_type": "code",
   "execution_count": 28,
   "id": "6d712bc0-4b62-4c56-9a15-b91b3035b247",
   "metadata": {},
   "outputs": [],
   "source": [
    "mander.add_info('cv_results', grid.cv_results_)"
   ]
  },
  {
   "cell_type": "code",
   "execution_count": 29,
   "id": "79b29a78-1cbd-4e53-82ab-69a54a9a4b38",
   "metadata": {},
   "outputs": [],
   "source": [
    "template = \"\"\"\n",
    "This dataset has {{n_classes}} classes.\n",
    "\n",
    "<scatter-chart title='Chart' data='cv_results' x='mean_test_score' y='std_test_score'/>\n",
    "\"\"\""
   ]
  },
  {
   "cell_type": "code",
   "execution_count": 30,
   "id": "36d83f4b-4060-494f-bb59-ead49e8ea680",
   "metadata": {},
   "outputs": [],
   "source": [
    "from bundl.templates import TemplateRenderer\n",
    "\n",
    "mander.add_view('index', TemplateRenderer(mander).render(template))"
   ]
  },
  {
   "cell_type": "code",
   "execution_count": 31,
   "id": "cfe7d3be-0bcd-4ce7-bfdc-67ad7f1f4d19",
   "metadata": {},
   "outputs": [],
   "source": [
    "import watermark\n",
    "\n",
    "mander.add_logs('watermark', watermark.watermark().replace('\\n','<br>'))"
   ]
  },
  {
   "cell_type": "code",
   "execution_count": 32,
   "id": "c3e58937-f0d3-474b-931e-4c307e6d30a8",
   "metadata": {},
   "outputs": [
    {
     "data": {
      "image/png": "[encoded data removed]",
      "text/plain": [
       "<Figure size 640x480 with 2 Axes>"
      ]
     },
     "metadata": {},
     "output_type": "display_data"
    }
   ],
   "source": [
    "import io\n",
    "import base64\n",
    "\n",
    "cm = confusion_matrix(y_test, grid.predict(X_test), labels=grid.classes_)\n",
    "disp = ConfusionMatrixDisplay(confusion_matrix=cm,\n",
    "                              display_labels=grid.classes_)\n",
    "\n",
    "disp.plot()\n",
    "\n",
    "myio = io.BytesIO()\n",
    "plt.savefig(myio, format='jpg')\n",
    "myio.seek(0)\n",
    "base64_img = base64.b64encode(myio.read()).decode()\n",
    "\n",
    "mander.add_view('confusion_matrix', f'<img src=\"data:image/png;base64, {base64_img}\">')"
   ]
  },
  {
   "cell_type": "code",
   "execution_count": 33,
   "id": "3fd82e2e-581e-4281-83ab-fe520940dcb2",
   "metadata": {},
   "outputs": [],
   "source": [
    "mander.add_artifact('model', grid)"
   ]
  },
  {
   "cell_type": "code",
   "execution_count": 34,
   "id": "5f14686a-a511-42af-a72e-cb13b5980392",
   "metadata": {},
   "outputs": [],
   "source": [
    "mander.add_info('train_time', toc - tic)"
   ]
  },
  {
   "cell_type": "code",
   "execution_count": 35,
   "id": "474e8423-7c69-4e19-8e1b-ed3cff5537c4",
   "metadata": {},
   "outputs": [],
   "source": [
    "mander.add_info('X_shape', list(X.shape))\n",
    "mander.add_info('n_classes', len(set(y)))"
   ]
  },
  {
   "cell_type": "code",
   "execution_count": 36,
   "id": "a17f0cf2-aca8-4b1a-8531-46bdf5f91cbe",
   "metadata": {},
   "outputs": [
    {
     "data": {
      "text/plain": [
       "dict_keys(['X_shape', '_artifacts', '_logs', '_templates', 'cv_results', 'n_classes', 'train_time', 'updated_at'])"
      ]
     },
     "execution_count": 36,
     "metadata": {},
     "output_type": "execute_result"
    }
   ],
   "source": [
    "mander.fetch().keys()"
   ]
  }
 ],
 "metadata": {
  "kernelspec": {
   "display_name": "Python 3 (ipykernel)",
   "language": "python",
   "name": "python3"
  },
  "language_info": {
   "codemirror_mode": {
    "name": "ipython",
    "version": 3
   },
   "file_extension": ".py",
   "mimetype": "text/x-python",
   "name": "python",
   "nbconvert_exporter": "python",
   "pygments_lexer": "ipython3",
   "version": "3.12.3"
  }
 },
 "nbformat": 4,
 "nbformat_minor": 5
}
